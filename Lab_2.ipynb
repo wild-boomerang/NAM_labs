{
 "cells": [
  {
   "cell_type": "markdown",
   "metadata": {},
   "source": [
    "# Задание 1"
   ]
  },
  {
   "cell_type": "markdown",
   "metadata": {},
   "source": [
    "### Метод Гаусса"
   ]
  },
  {
   "cell_type": "code",
   "execution_count": 1,
   "metadata": {},
   "outputs": [],
   "source": [
    "import matplotlib.pyplot as plt\n",
    "\n",
    "\n",
    "def calculate_by_gauss_method(A, b):\n",
    "    cur_A = numpy.hstack((A, b))\n",
    "    temp = [numpy.hstack((A[0, :] / A[0, 0], b[0] / A[0, 0]))]\n",
    "\n",
    "    # straight move\n",
    "    for counter in range(cur_A.shape[0]):\n",
    "        if cur_A.shape[0] <= 1:\n",
    "            break\n",
    "\n",
    "        next_A = numpy.empty((cur_A.shape[0] - 1, cur_A.shape[1] - 1))\n",
    "\n",
    "        for i in range(1, cur_A.shape[0]):\n",
    "            for j in range(1, cur_A.shape[1]):\n",
    "                next_A[i - 1, j - 1] = cur_A[i, j] - cur_A[i, 0] * temp[counter][j]\n",
    "\n",
    "        temp.append(numpy.array(next_A[0, :] / next_A[0, 0]))\n",
    "        cur_A = next_A\n",
    "\n",
    "    # reverse move\n",
    "    size = A.shape[0]\n",
    "    x = numpy.empty(size)\n",
    "    x[size - 1] = temp[size - 1][1]\n",
    "\n",
    "    for i in range(size - 2, -1, -1):\n",
    "        x[i] = temp[i][len(temp[i]) - 1]\n",
    "        k = size - 1\n",
    "        for j in range(temp[i].size - 2, 0, -1):\n",
    "            x[i] -= temp[i][j] * x[k]\n",
    "            k -= 1\n",
    "\n",
    "    return x"
   ]
  },
  {
   "cell_type": "markdown",
   "metadata": {},
   "source": [
    "### Метод Гаусса-Жордано"
   ]
  },
  {
   "cell_type": "code",
   "execution_count": 2,
   "metadata": {},
   "outputs": [],
   "source": [
    "def calculate_by_gauss_jordano_method(A, b):\n",
    "    cur_A = numpy.hstack((A, b))\n",
    "    temp = [numpy.hstack((A[0, :] / A[0, 0], b[0] / A[0, 0]))]\n",
    "\n",
    "    # straight move\n",
    "    for counter in range(cur_A.shape[0]):\n",
    "        if cur_A.shape[0] <= 1:\n",
    "            break\n",
    "\n",
    "        next_A = numpy.empty((cur_A.shape[0] - 1, cur_A.shape[1] - 1))\n",
    "\n",
    "        for i in range(1, cur_A.shape[0]):\n",
    "            for j in range(1, cur_A.shape[1]):\n",
    "                next_A[i - 1, j - 1] = cur_A[i, j] - cur_A[i, 0] * temp[counter][j]\n",
    "\n",
    "        temp.append(numpy.array(next_A[0, :] / next_A[0, 0]))\n",
    "        cur_A = next_A\n",
    "\n",
    "    # reverse move\n",
    "    for i in range(len(temp) - 1, 0, -1):  # row\n",
    "        p = 1\n",
    "        for j in range(i - 1, -1, -1):  # row\n",
    "            elem = temp[j][temp[j].size - len(temp[i])]\n",
    "            # print(elem)\n",
    "            for k in range(temp[i].size):\n",
    "                temp[j][k + p] -= temp[i][k] * elem\n",
    "            p += 1\n",
    "\n",
    "    x = numpy.empty(A.shape[0])\n",
    "    for i in range(len(temp)):\n",
    "        x[i] = temp[i][temp[i].size - 1]\n",
    "\n",
    "    return x"
   ]
  },
  {
   "cell_type": "markdown",
   "metadata": {},
   "source": [
    "### Нахождение нормы вектора или матрицы"
   ]
  },
  {
   "cell_type": "code",
   "execution_count": 3,
   "metadata": {},
   "outputs": [],
   "source": [
    "def norm(A):\n",
    "    A = numpy.array(A)\n",
    "    if len(A.shape) == 1:  # vector\n",
    "        return max(abs(numpy.max(A)), abs(numpy.min(A)))\n",
    "    if len(numpy.array(A).shape) == 2:  # matrix\n",
    "        arr = []\n",
    "        for i in range(A.shape[0]):\n",
    "            row_sum = 0\n",
    "            for j in range(A.shape[1]):\n",
    "                row_sum += abs(A[i][j])\n",
    "            arr.append(row_sum)\n",
    "\n",
    "        return max(arr)\n",
    "    else:\n",
    "        raise TypeError(\"Too many dimensions\")"
   ]
  },
  {
   "cell_type": "markdown",
   "metadata": {},
   "source": [
    "### Метод Якоби"
   ]
  },
  {
   "cell_type": "code",
   "execution_count": 46,
   "metadata": {},
   "outputs": [],
   "source": [
    "def calculate_by_jacobi_method(A, b, init_x=0, e=1e-10, max_iters=500):\n",
    "    next_x = numpy.empty(A.shape[0])\n",
    "    if init_x == 0:\n",
    "        prev_x = numpy.zeros(A.shape[0])\n",
    "    else:\n",
    "        prev_x = numpy.array(init_x)\n",
    "\n",
    "    arr_to_plot = [prev_x[0]]\n",
    "    for _ in range(max_iters):\n",
    "        for i in range(next_x.size):\n",
    "            _sum = 0\n",
    "\n",
    "            for j in range(A.shape[1]):\n",
    "                if j != i:\n",
    "                    _sum -= A[i][j] * prev_x[j]\n",
    "\n",
    "            next_x[i] = 1 / A[i][i] * (_sum + b[i])\n",
    "\n",
    "        arr_to_plot.append(next_x[0])\n",
    "        \n",
    "        if norm(next_x - prev_x) <= e:\n",
    "            break\n",
    "        else:\n",
    "            prev_x = next_x.copy()\n",
    "\n",
    "    plt.plot(arr_to_plot)   \n",
    "    plt.title(\"Convergence graph for x1 in Jacobi method\")\n",
    "    plt.xlabel(\"Iterations\")\n",
    "    plt.ylabel(\"x1\")\n",
    "    plt.show()\n",
    "    \n",
    "    return next_x"
   ]
  },
  {
   "cell_type": "markdown",
   "metadata": {},
   "source": [
    "### Метод Гаусса-Зейделя"
   ]
  },
  {
   "cell_type": "code",
   "execution_count": 45,
   "metadata": {},
   "outputs": [],
   "source": [
    "def calculate_by_gauss_seidel_method(A, b, init_x=0, e=1e-10, max_iters=500):\n",
    "    next_x = numpy.empty(A.shape[0])\n",
    "    if init_x == 0:\n",
    "        prev_x = numpy.zeros(A.shape[0])\n",
    "    else:\n",
    "        prev_x = numpy.array(init_x)\n",
    "\n",
    "    arr_to_plot = [prev_x[0]]\n",
    "    for _ in range(max_iters):\n",
    "        for i in range(next_x.size):\n",
    "            sum_1 = 0\n",
    "            for j in range(i):\n",
    "                sum_1 -= A[i][j] * next_x[j]\n",
    "\n",
    "            sum_2 = 0\n",
    "            for j in range(i + 1, A.shape[1]):\n",
    "                sum_2 -= A[i][j] * prev_x[j]\n",
    "\n",
    "            next_x[i] = 1 / A[i][i] * ((sum_1 + sum_2) + b[i])\n",
    "\n",
    "        arr_to_plot.append(next_x[0])\n",
    "        if norm(next_x - prev_x) <= e:\n",
    "            break\n",
    "        else:\n",
    "            prev_x = next_x.copy()\n",
    "\n",
    "    plt.plot(arr_to_plot)   \n",
    "    plt.title(\"Convergence graph for x1 in Gauss-Seidel method\")\n",
    "    plt.xlabel(\"Iterations\")\n",
    "    plt.ylabel(\"x1\")\n",
    "    plt.show()\n",
    "    return next_x"
   ]
  },
  {
   "cell_type": "markdown",
   "metadata": {},
   "source": [
    "### Иллюстрация работы разработанных функций"
   ]
  },
  {
   "cell_type": "code",
   "execution_count": 47,
   "metadata": {},
   "outputs": [
    {
     "name": "stdout",
     "output_type": "stream",
     "text": [
      "Gauss method: \n",
      "[0.18519046 0.34731112 0.11429252 0.04912745]\n",
      "Gauss-Jordano method: \n",
      "[0.18519046 0.34731112 0.11429252 0.04912745]\n"
     ]
    },
    {
     "data": {
      "image/png": "[encoded data removed]",
      "text/plain": [
       "<Figure size 432x288 with 1 Axes>"
      ]
     },
     "metadata": {
      "needs_background": "light"
     },
     "output_type": "display_data"
    },
    {
     "name": "stdout",
     "output_type": "stream",
     "text": [
      "Jacobi method: \n",
      "[0.18519046 0.34731112 0.11429252 0.04912745]\n"
     ]
    },
    {
     "data": {
      "image/png": "[encoded data removed]",
      "text/plain": [
       "<Figure size 432x288 with 1 Axes>"
      ]
     },
     "metadata": {
      "needs_background": "light"
     },
     "output_type": "display_data"
    },
    {
     "name": "stdout",
     "output_type": "stream",
     "text": [
      "Gauss-Seidel method: \n",
      "[0.18519046 0.34731112 0.11429252 0.04912745]\n"
     ]
    }
   ],
   "source": [
    "import numpy\n",
    "\n",
    "A = numpy.array([[2.958, 0.147, 0.354, 0.238],\n",
    "                     [0.127, 2.395, 0.256, 0.273],\n",
    "                     [0.403, 0.184, 3.815, 0.416],\n",
    "                     [0.259, 0.361, 0.281, 3.736]])\n",
    "b = numpy.array([[0.651],\n",
    "                 [0.898],\n",
    "                 [0.595],\n",
    "                 [0.389]])\n",
    "\n",
    "print(\"Gauss method: \\n{}\".format(calculate_by_gauss_method(A, b)))\n",
    "print(\"Gauss-Jordano method: \\n{}\".format(calculate_by_gauss_jordano_method(A, b)))\n",
    "print(\"Jacobi method: \\n{}\".format(calculate_by_jacobi_method(A, b)))\n",
    "print(\"Gauss-Seidel method: \\n{}\".format(calculate_by_gauss_seidel_method(A, b)))"
   ]
  },
  {
   "cell_type": "markdown",
   "metadata": {},
   "source": [
    "# Задание 2"
   ]
  },
  {
   "cell_type": "markdown",
   "metadata": {},
   "source": [
    "### Метод сопряженных градиентов"
   ]
  },
  {
   "cell_type": "code",
   "execution_count": 29,
   "metadata": {},
   "outputs": [],
   "source": [
    "def calculate_by_conjugate_gradient_method(A, b, init_x=0, e=1e-10, max_iters=500):\n",
    "    x = numpy.array(init_x)\n",
    "    r = numpy.array(b - numpy.dot(A, x))\n",
    "    if norm(r) <= e:\n",
    "        return x[:, 0]\n",
    "    p = r.copy()\n",
    "    arr_to_plot = [x]\n",
    "    for i in range(max_iters):\n",
    "        rT_and_r_dot = numpy.dot(r.T, r)\n",
    "        alpha = rT_and_r_dot / numpy.dot(numpy.dot(p.T, A), p)\n",
    "        x = x + alpha * p\n",
    "        arr_to_plot.append(x[0][0])\n",
    "        r = numpy.array(r - alpha * numpy.dot(A, p))\n",
    "        if norm(r) <= e:\n",
    "            break\n",
    "        beta = numpy.dot(r.T, r) / rT_and_r_dot\n",
    "        p = r + beta * p\n",
    "        \n",
    "    plt.plot(arr_to_plot)   \n",
    "    plt.title(\"Convergence graph for x11\")\n",
    "    plt.xlabel(\"Iterations\")\n",
    "    plt.ylabel(\"x11\")\n",
    "    plt.show()\n",
    "    \n",
    "    return x[:, 0]"
   ]
  },
  {
   "cell_type": "markdown",
   "metadata": {},
   "source": [
    "### Переобусловленный метод сопряженных градиентов"
   ]
  },
  {
   "cell_type": "code",
   "execution_count": 43,
   "metadata": {},
   "outputs": [],
   "source": [
    "def calculate_by_preconditioned_cgm(A, b, init_x=0, e=1e-10, max_iters=500):\n",
    "#     M = numpy.dot(numpy.eye(A.shape[0]), numpy.eye(A.shape[0]).T)\n",
    "    M = numpy.zeros(A.shape)\n",
    "    for i in range(A.shape[0]):\n",
    "        M[i][i] = A[i][i]\n",
    "    M = numpy.linalg.inv(M)\n",
    "    x = numpy.array(init_x)\n",
    "    r = numpy.array(b - numpy.dot(A, x))\n",
    "    if norm(r) <= e:\n",
    "        return x[:, 0]\n",
    "    z = numpy.dot(M, r)\n",
    "    p = z.copy()\n",
    "    arr_to_plot = [x]\n",
    "    for i in range(max_iters):\n",
    "        rT_and_z_dot = numpy.dot(r.T, z)\n",
    "        alpha = rT_and_z_dot / numpy.dot(numpy.dot(p.T, A), p)\n",
    "        x = x + alpha * p\n",
    "        arr_to_plot.append(x[0][0])\n",
    "        r = numpy.array(r - alpha * numpy.dot(A, p))\n",
    "        if norm(r) <= e:\n",
    "            break\n",
    "        z_old = z.copy()\n",
    "        z = numpy.dot(M, r)\n",
    "#         beta = numpy.dot(r.T, z) / rT_and_z_dot\n",
    "        beta = numpy.dot(r.T, (z - z_old)) / rT_and_z_dot\n",
    "        p = z + beta * p\n",
    "\n",
    "    plt.plot(arr_to_plot)   \n",
    "    plt.title(\"Convergence graph for x11\")\n",
    "    plt.xlabel(\"Iterations\")\n",
    "    plt.ylabel(\"x11\")\n",
    "    plt.show()\n",
    "    return x[:, 0]"
   ]
  },
  {
   "cell_type": "markdown",
   "metadata": {},
   "source": [
    "### Иллюстрация работы разработанных функций"
   ]
  },
  {
   "cell_type": "code",
   "execution_count": 44,
   "metadata": {},
   "outputs": [
    {
     "data": {
      "image/png": "[encoded data removed]",
      "text/plain": [
       "<Figure size 432x288 with 1 Axes>"
      ]
     },
     "metadata": {
      "needs_background": "light"
     },
     "output_type": "display_data"
    },
    {
     "name": "stdout",
     "output_type": "stream",
     "text": [
      "Conjugate gradient method:\n",
      "Answer: [0.18519046 0.34731112 0.11429252 0.04912745]\n"
     ]
    },
    {
     "data": {
      "image/png": "[encoded data removed]",
      "text/plain": [
       "<Figure size 432x288 with 1 Axes>"
      ]
     },
     "metadata": {
      "needs_background": "light"
     },
     "output_type": "display_data"
    },
    {
     "name": "stdout",
     "output_type": "stream",
     "text": [
      "Preconditioned conjugate gradient method:\n",
      "Answer: [0.18519046 0.34731112 0.11429252 0.04912745]\n"
     ]
    }
   ],
   "source": [
    "print(\"Conjugate gradient method:\\nAnswer: {}\".format(calculate_by_conjugate_gradient_method(A, b)))\n",
    "print(\"Preconditioned conjugate gradient method:\\nAnswer: {}\".format(calculate_by_preconditioned_cgm(A, b)))"
   ]
  },
  {
   "cell_type": "markdown",
   "metadata": {},
   "source": [
    "Вывод: скорость сходимости переобусловленного метода сопряженных градиентов очень сильно зависит от выбора матрицы M. В данном случае матрица была выбрана следующим образом:\n",
    "М[i][j] = A[i][i], если i == j, иначе М[i][j] = 0.\n",
    "Таким образом скорость сходимости переобусловленного метода сопряженных градиентов несколька выше скорости сходимости метода сопряженных градиентов "
   ]
  },
  {
   "cell_type": "markdown",
   "metadata": {},
   "source": [
    "# Задание 3"
   ]
  },
  {
   "cell_type": "markdown",
   "metadata": {},
   "source": [
    "### Функции биномиального коэффициента и матрицы Гильберта"
   ]
  },
  {
   "cell_type": "code",
   "execution_count": 37,
   "metadata": {},
   "outputs": [],
   "source": [
    "import math\n",
    "\n",
    "\n",
    "def binomial_coefficient(n, k):\n",
    "    return math.factorial(n) / math.factorial(n - k) / math.factorial(k)\n",
    "\n",
    "\n",
    "def inv_hilbert_matrix(n, e=1e-4):\n",
    "    H_inv = numpy.empty((n, n))\n",
    "    for i in range(n):\n",
    "        i += 1\n",
    "        for j in range(n):\n",
    "            j += 1\n",
    "            binom_1 = binomial_coefficient(n + i - 1, n - j)\n",
    "            binom_2 = binomial_coefficient(n + j - 1, n - i)\n",
    "            binom_3 = binomial_coefficient(i + j - 2, i - 1) ** 2\n",
    "            H_inv[i - 1][j - 1] = (i + j - 1) * binom_1 * binom_2 * binom_3 * (-1) ** (i + j)\n",
    "    return H_inv\n",
    "\n",
    "\n",
    "def hilbert_matrix(n, e=4):\n",
    "    H = numpy.empty((n, n))\n",
    "    for i in range(n):\n",
    "        for j in range(n):\n",
    "            H[i][j] = 1 / (i + 1 + j + 1 - 1)\n",
    "    print(\"{} x {} Hilbert matrix:\\n{}\".format(n, n, H))\n",
    "\n",
    "    H_inv = numpy.array(inv_hilbert_matrix(n, e))\n",
    "    print(\"{} x {} Hilbert inverse matrix rounded to fourth decimal place:\\n{}\".format(n, n, H_inv))\n",
    "\n",
    "    H_inv = numpy.around(numpy.linalg.inv(H_inv), e)\n",
    "    print(\"Inverse matrix from inverse matrix rounded to fourth decimal place:\\n{}\".format(H_inv))\n",
    "\n",
    "    dif_norm = norm(H - H_inv)\n",
    "    print(\"Norm of the resulting matrices:\\n{}\".format(dif_norm))\n",
    "    "
   ]
  },
  {
   "cell_type": "markdown",
   "metadata": {},
   "source": [
    "### Иллюстрация работы разработанных функций"
   ]
  },
  {
   "cell_type": "code",
   "execution_count": 38,
   "metadata": {},
   "outputs": [
    {
     "name": "stdout",
     "output_type": "stream",
     "text": [
      "3 x 3 Hilbert matrix:\n",
      "[[1.         0.5        0.33333333]\n",
      " [0.5        0.33333333 0.25      ]\n",
      " [0.33333333 0.25       0.2       ]]\n",
      "3 x 3 Hilbert inverse matrix rounded to fourth decimal place:\n",
      "[[   9.  -36.   30.]\n",
      " [ -36.  192. -180.]\n",
      " [  30. -180.  180.]]\n",
      "Inverse matrix from inverse matrix rounded to fourth decimal place:\n",
      "[[1.     0.5    0.3333]\n",
      " [0.5    0.3333 0.25  ]\n",
      " [0.3333 0.25   0.2   ]]\n",
      "Norm of the resulting matrices:\n",
      "3.333333333332966e-05\n"
     ]
    }
   ],
   "source": [
    "hilbert_matrix(3)"
   ]
  },
  {
   "cell_type": "code",
   "execution_count": null,
   "metadata": {},
   "outputs": [],
   "source": []
  }
 ],
 "metadata": {
  "kernelspec": {
   "display_name": "Python 3",
   "language": "python",
   "name": "python3"
  },
  "language_info": {
   "codemirror_mode": {
    "name": "ipython",
    "version": 3
   },
   "file_extension": ".py",
   "mimetype": "text/x-python",
   "name": "python",
   "nbconvert_exporter": "python",
   "pygments_lexer": "ipython3",
   "version": "3.7.4"
  }
 },
 "nbformat": 4,
 "nbformat_minor": 2
}
